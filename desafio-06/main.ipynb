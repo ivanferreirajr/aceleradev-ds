{
 "cells": [
  {
   "cell_type": "code",
   "execution_count": 1,
   "metadata": {},
   "outputs": [],
   "source": [
    "import pandas as pd\n",
    "import numpy as np\n",
    "import matplotlib as plt\n",
    "import seaborn as sns\n",
    "from sklearn.ensemble import RandomForestRegressor"
   ]
  },
  {
   "cell_type": "code",
   "execution_count": 2,
   "metadata": {},
   "outputs": [],
   "source": [
    "df_train = pd.read_csv('train.csv', index_col=0)\n",
    "df_test = pd.read_csv('test.csv')"
   ]
  },
  {
   "cell_type": "code",
   "execution_count": 3,
   "metadata": {},
   "outputs": [
    {
     "data": {
      "text/html": [
       "<div>\n",
       "<style scoped>\n",
       "    .dataframe tbody tr th:only-of-type {\n",
       "        vertical-align: middle;\n",
       "    }\n",
       "\n",
       "    .dataframe tbody tr th {\n",
       "        vertical-align: top;\n",
       "    }\n",
       "\n",
       "    .dataframe thead th {\n",
       "        text-align: right;\n",
       "    }\n",
       "</style>\n",
       "<table border=\"1\" class=\"dataframe\">\n",
       "  <thead>\n",
       "    <tr style=\"text-align: right;\">\n",
       "      <th></th>\n",
       "      <th>NU_INSCRICAO</th>\n",
       "      <th>NU_ANO</th>\n",
       "      <th>CO_MUNICIPIO_RESIDENCIA</th>\n",
       "      <th>NO_MUNICIPIO_RESIDENCIA</th>\n",
       "      <th>CO_UF_RESIDENCIA</th>\n",
       "      <th>SG_UF_RESIDENCIA</th>\n",
       "      <th>NU_IDADE</th>\n",
       "      <th>TP_SEXO</th>\n",
       "      <th>TP_ESTADO_CIVIL</th>\n",
       "      <th>TP_COR_RACA</th>\n",
       "      <th>...</th>\n",
       "      <th>Q041</th>\n",
       "      <th>Q042</th>\n",
       "      <th>Q043</th>\n",
       "      <th>Q044</th>\n",
       "      <th>Q045</th>\n",
       "      <th>Q046</th>\n",
       "      <th>Q047</th>\n",
       "      <th>Q048</th>\n",
       "      <th>Q049</th>\n",
       "      <th>Q050</th>\n",
       "    </tr>\n",
       "  </thead>\n",
       "  <tbody>\n",
       "    <tr>\n",
       "      <th>1</th>\n",
       "      <td>ed50e8aaa58e7a806c337585efee9ca41f1eb1ad</td>\n",
       "      <td>2016</td>\n",
       "      <td>4314902</td>\n",
       "      <td>Porto Alegre</td>\n",
       "      <td>43</td>\n",
       "      <td>RS</td>\n",
       "      <td>24</td>\n",
       "      <td>M</td>\n",
       "      <td>0.0</td>\n",
       "      <td>1</td>\n",
       "      <td>...</td>\n",
       "      <td>5.0</td>\n",
       "      <td>A</td>\n",
       "      <td>A</td>\n",
       "      <td>A</td>\n",
       "      <td>A</td>\n",
       "      <td>A</td>\n",
       "      <td>A</td>\n",
       "      <td>A</td>\n",
       "      <td>B</td>\n",
       "      <td>D</td>\n",
       "    </tr>\n",
       "    <tr>\n",
       "      <th>2</th>\n",
       "      <td>2c3acac4b33ec2b195d77e7c04a2d75727fad723</td>\n",
       "      <td>2016</td>\n",
       "      <td>2304707</td>\n",
       "      <td>Granja</td>\n",
       "      <td>23</td>\n",
       "      <td>CE</td>\n",
       "      <td>17</td>\n",
       "      <td>F</td>\n",
       "      <td>0.0</td>\n",
       "      <td>3</td>\n",
       "      <td>...</td>\n",
       "      <td>NaN</td>\n",
       "      <td>A</td>\n",
       "      <td>A</td>\n",
       "      <td>C</td>\n",
       "      <td>A</td>\n",
       "      <td>B</td>\n",
       "      <td>A</td>\n",
       "      <td>A</td>\n",
       "      <td>C</td>\n",
       "      <td>A</td>\n",
       "    </tr>\n",
       "    <tr>\n",
       "      <th>3</th>\n",
       "      <td>f4545f8ccb9ff5c8aad7d32951b3f251a26e6568</td>\n",
       "      <td>2016</td>\n",
       "      <td>2304400</td>\n",
       "      <td>Fortaleza</td>\n",
       "      <td>23</td>\n",
       "      <td>CE</td>\n",
       "      <td>21</td>\n",
       "      <td>F</td>\n",
       "      <td>0.0</td>\n",
       "      <td>3</td>\n",
       "      <td>...</td>\n",
       "      <td>NaN</td>\n",
       "      <td>A</td>\n",
       "      <td>A</td>\n",
       "      <td>A</td>\n",
       "      <td>A</td>\n",
       "      <td>C</td>\n",
       "      <td>A</td>\n",
       "      <td>A</td>\n",
       "      <td>B</td>\n",
       "      <td>A</td>\n",
       "    </tr>\n",
       "    <tr>\n",
       "      <th>4</th>\n",
       "      <td>3d6ec248fef899c414e77f82d5c6d2bffbeaf7fe</td>\n",
       "      <td>2016</td>\n",
       "      <td>3304557</td>\n",
       "      <td>Rio de Janeiro</td>\n",
       "      <td>33</td>\n",
       "      <td>RJ</td>\n",
       "      <td>25</td>\n",
       "      <td>F</td>\n",
       "      <td>0.0</td>\n",
       "      <td>0</td>\n",
       "      <td>...</td>\n",
       "      <td>5.0</td>\n",
       "      <td>C</td>\n",
       "      <td>A</td>\n",
       "      <td>A</td>\n",
       "      <td>A</td>\n",
       "      <td>A</td>\n",
       "      <td>D</td>\n",
       "      <td>A</td>\n",
       "      <td>A</td>\n",
       "      <td>A</td>\n",
       "    </tr>\n",
       "    <tr>\n",
       "      <th>5</th>\n",
       "      <td>bf896ac8d3ecadd6dba1dfbf50110afcbf5d3268</td>\n",
       "      <td>2016</td>\n",
       "      <td>1302603</td>\n",
       "      <td>Manaus</td>\n",
       "      <td>13</td>\n",
       "      <td>AM</td>\n",
       "      <td>28</td>\n",
       "      <td>M</td>\n",
       "      <td>0.0</td>\n",
       "      <td>2</td>\n",
       "      <td>...</td>\n",
       "      <td>NaN</td>\n",
       "      <td>A</td>\n",
       "      <td>A</td>\n",
       "      <td>A</td>\n",
       "      <td>A</td>\n",
       "      <td>A</td>\n",
       "      <td>A</td>\n",
       "      <td>A</td>\n",
       "      <td>A</td>\n",
       "      <td>A</td>\n",
       "    </tr>\n",
       "  </tbody>\n",
       "</table>\n",
       "<p>5 rows × 166 columns</p>\n",
       "</div>"
      ],
      "text/plain": [
       "                               NU_INSCRICAO  NU_ANO  CO_MUNICIPIO_RESIDENCIA  \\\n",
       "1  ed50e8aaa58e7a806c337585efee9ca41f1eb1ad    2016                  4314902   \n",
       "2  2c3acac4b33ec2b195d77e7c04a2d75727fad723    2016                  2304707   \n",
       "3  f4545f8ccb9ff5c8aad7d32951b3f251a26e6568    2016                  2304400   \n",
       "4  3d6ec248fef899c414e77f82d5c6d2bffbeaf7fe    2016                  3304557   \n",
       "5  bf896ac8d3ecadd6dba1dfbf50110afcbf5d3268    2016                  1302603   \n",
       "\n",
       "  NO_MUNICIPIO_RESIDENCIA  CO_UF_RESIDENCIA SG_UF_RESIDENCIA  NU_IDADE  \\\n",
       "1            Porto Alegre                43               RS        24   \n",
       "2                  Granja                23               CE        17   \n",
       "3               Fortaleza                23               CE        21   \n",
       "4          Rio de Janeiro                33               RJ        25   \n",
       "5                  Manaus                13               AM        28   \n",
       "\n",
       "  TP_SEXO  TP_ESTADO_CIVIL  TP_COR_RACA  ...  Q041  Q042 Q043  Q044 Q045  \\\n",
       "1       M              0.0            1  ...   5.0     A    A     A    A   \n",
       "2       F              0.0            3  ...   NaN     A    A     C    A   \n",
       "3       F              0.0            3  ...   NaN     A    A     A    A   \n",
       "4       F              0.0            0  ...   5.0     C    A     A    A   \n",
       "5       M              0.0            2  ...   NaN     A    A     A    A   \n",
       "\n",
       "   Q046  Q047  Q048  Q049  Q050  \n",
       "1     A     A     A     B     D  \n",
       "2     B     A     A     C     A  \n",
       "3     C     A     A     B     A  \n",
       "4     A     D     A     A     A  \n",
       "5     A     A     A     A     A  \n",
       "\n",
       "[5 rows x 166 columns]"
      ]
     },
     "execution_count": 3,
     "metadata": {},
     "output_type": "execute_result"
    }
   ],
   "source": [
    "df_train.head()"
   ]
  },
  {
   "cell_type": "code",
   "execution_count": 22,
   "metadata": {},
   "outputs": [
    {
     "data": {
      "text/plain": [
       "['NU_INSCRICAO',\n",
       " 'NU_ANO',\n",
       " 'CO_MUNICIPIO_RESIDENCIA',\n",
       " 'NO_MUNICIPIO_RESIDENCIA',\n",
       " 'CO_UF_RESIDENCIA',\n",
       " 'SG_UF_RESIDENCIA',\n",
       " 'NU_IDADE',\n",
       " 'TP_SEXO',\n",
       " 'TP_ESTADO_CIVIL',\n",
       " 'TP_COR_RACA',\n",
       " 'TP_NACIONALIDADE',\n",
       " 'CO_MUNICIPIO_NASCIMENTO',\n",
       " 'NO_MUNICIPIO_NASCIMENTO',\n",
       " 'CO_UF_NASCIMENTO',\n",
       " 'SG_UF_NASCIMENTO',\n",
       " 'TP_ST_CONCLUSAO',\n",
       " 'TP_ANO_CONCLUIU',\n",
       " 'TP_ESCOLA',\n",
       " 'TP_ENSINO',\n",
       " 'IN_TREINEIRO',\n",
       " 'CO_ESCOLA',\n",
       " 'CO_MUNICIPIO_ESC',\n",
       " 'NO_MUNICIPIO_ESC',\n",
       " 'CO_UF_ESC',\n",
       " 'SG_UF_ESC',\n",
       " 'TP_DEPENDENCIA_ADM_ESC',\n",
       " 'TP_LOCALIZACAO_ESC',\n",
       " 'TP_SIT_FUNC_ESC',\n",
       " 'IN_BAIXA_VISAO',\n",
       " 'IN_CEGUEIRA',\n",
       " 'IN_SURDEZ',\n",
       " 'IN_DEFICIENCIA_AUDITIVA',\n",
       " 'IN_SURDO_CEGUEIRA',\n",
       " 'IN_DEFICIENCIA_FISICA',\n",
       " 'IN_DEFICIENCIA_MENTAL',\n",
       " 'IN_DEFICIT_ATENCAO',\n",
       " 'IN_DISLEXIA',\n",
       " 'IN_DISCALCULIA',\n",
       " 'IN_AUTISMO',\n",
       " 'IN_VISAO_MONOCULAR',\n",
       " 'IN_OUTRA_DEF',\n",
       " 'IN_SABATISTA',\n",
       " 'IN_GESTANTE',\n",
       " 'IN_LACTANTE',\n",
       " 'IN_IDOSO',\n",
       " 'IN_ESTUDA_CLASSE_HOSPITALAR',\n",
       " 'IN_SEM_RECURSO',\n",
       " 'IN_BRAILLE',\n",
       " 'IN_AMPLIADA_24',\n",
       " 'IN_AMPLIADA_18',\n",
       " 'IN_LEDOR',\n",
       " 'IN_ACESSO',\n",
       " 'IN_TRANSCRICAO',\n",
       " 'IN_LIBRAS',\n",
       " 'IN_LEITURA_LABIAL',\n",
       " 'IN_MESA_CADEIRA_RODAS',\n",
       " 'IN_MESA_CADEIRA_SEPARADA',\n",
       " 'IN_APOIO_PERNA',\n",
       " 'IN_GUIA_INTERPRETE',\n",
       " 'IN_MACA',\n",
       " 'IN_COMPUTADOR',\n",
       " 'IN_CADEIRA_ESPECIAL',\n",
       " 'IN_CADEIRA_CANHOTO',\n",
       " 'IN_CADEIRA_ACOLCHOADA',\n",
       " 'IN_PROVA_DEITADO',\n",
       " 'IN_MOBILIARIO_OBESO',\n",
       " 'IN_LAMINA_OVERLAY',\n",
       " 'IN_PROTETOR_AURICULAR',\n",
       " 'IN_MEDIDOR_GLICOSE',\n",
       " 'IN_MAQUINA_BRAILE',\n",
       " 'IN_SOROBAN',\n",
       " 'IN_MARCA_PASSO',\n",
       " 'IN_SONDA',\n",
       " 'IN_MEDICAMENTOS',\n",
       " 'IN_SALA_INDIVIDUAL',\n",
       " 'IN_SALA_ESPECIAL',\n",
       " 'IN_SALA_ACOMPANHANTE',\n",
       " 'IN_MOBILIARIO_ESPECIFICO',\n",
       " 'IN_MATERIAL_ESPECIFICO',\n",
       " 'IN_NOME_SOCIAL',\n",
       " 'IN_CERTIFICADO',\n",
       " 'NO_ENTIDADE_CERTIFICACAO',\n",
       " 'CO_UF_ENTIDADE_CERTIFICACAO',\n",
       " 'SG_UF_ENTIDADE_CERTIFICACAO',\n",
       " 'CO_MUNICIPIO_PROVA',\n",
       " 'NO_MUNICIPIO_PROVA',\n",
       " 'CO_UF_PROVA',\n",
       " 'SG_UF_PROVA',\n",
       " 'TP_PRESENCA_CN',\n",
       " 'TP_PRESENCA_CH',\n",
       " 'TP_PRESENCA_LC',\n",
       " 'TP_PRESENCA_MT',\n",
       " 'CO_PROVA_CN',\n",
       " 'CO_PROVA_CH',\n",
       " 'CO_PROVA_LC',\n",
       " 'CO_PROVA_MT',\n",
       " 'NU_NOTA_CN',\n",
       " 'NU_NOTA_CH',\n",
       " 'NU_NOTA_LC',\n",
       " 'NU_NOTA_MT',\n",
       " 'TX_RESPOSTAS_CN',\n",
       " 'TX_RESPOSTAS_CH',\n",
       " 'TX_RESPOSTAS_LC',\n",
       " 'TX_RESPOSTAS_MT',\n",
       " 'TP_LINGUA',\n",
       " 'TX_GABARITO_CN',\n",
       " 'TX_GABARITO_CH',\n",
       " 'TX_GABARITO_LC',\n",
       " 'TX_GABARITO_MT',\n",
       " 'TP_STATUS_REDACAO',\n",
       " 'NU_NOTA_COMP1',\n",
       " 'NU_NOTA_COMP2',\n",
       " 'NU_NOTA_COMP3',\n",
       " 'NU_NOTA_COMP4',\n",
       " 'NU_NOTA_COMP5',\n",
       " 'NU_NOTA_REDACAO',\n",
       " 'Q001',\n",
       " 'Q002',\n",
       " 'Q003',\n",
       " 'Q004',\n",
       " 'Q005',\n",
       " 'Q006',\n",
       " 'Q007',\n",
       " 'Q008',\n",
       " 'Q009',\n",
       " 'Q010',\n",
       " 'Q011',\n",
       " 'Q012',\n",
       " 'Q013',\n",
       " 'Q014',\n",
       " 'Q015',\n",
       " 'Q016',\n",
       " 'Q017',\n",
       " 'Q018',\n",
       " 'Q019',\n",
       " 'Q020',\n",
       " 'Q021',\n",
       " 'Q022',\n",
       " 'Q023',\n",
       " 'Q024',\n",
       " 'Q025',\n",
       " 'Q026',\n",
       " 'Q027',\n",
       " 'Q028',\n",
       " 'Q029',\n",
       " 'Q030',\n",
       " 'Q031',\n",
       " 'Q032',\n",
       " 'Q033',\n",
       " 'Q034',\n",
       " 'Q035',\n",
       " 'Q036',\n",
       " 'Q037',\n",
       " 'Q038',\n",
       " 'Q039',\n",
       " 'Q040',\n",
       " 'Q041',\n",
       " 'Q042',\n",
       " 'Q043',\n",
       " 'Q044',\n",
       " 'Q045',\n",
       " 'Q046',\n",
       " 'Q047',\n",
       " 'Q048',\n",
       " 'Q049',\n",
       " 'Q050']"
      ]
     },
     "execution_count": 22,
     "metadata": {},
     "output_type": "execute_result"
    }
   ],
   "source": [
    "df_train.columns.tolist()"
   ]
  },
  {
   "cell_type": "code",
   "execution_count": 5,
   "metadata": {
    "tags": []
   },
   "outputs": [
    {
     "name": "stdout",
     "output_type": "stream",
     "text": [
      "Shape do df de train: (13730, 166)\n",
      "Shape do df de test: (4576, 47)\n"
     ]
    }
   ],
   "source": [
    "print(f'Shape do df de train: {df_train.shape}\\nShape do df de test: {df_test.shape}') "
   ]
  },
  {
   "cell_type": "code",
   "execution_count": 6,
   "metadata": {},
   "outputs": [
    {
     "data": {
      "text/plain": [
       "count    10133.000000\n",
       "mean       482.497928\n",
       "std         99.826323\n",
       "min          0.000000\n",
       "25%        408.900000\n",
       "50%        461.200000\n",
       "75%        537.600000\n",
       "max        952.000000\n",
       "Name: NU_NOTA_MT, dtype: float64"
      ]
     },
     "execution_count": 6,
     "metadata": {},
     "output_type": "execute_result"
    }
   ],
   "source": [
    "df_train['NU_NOTA_MT'].describe()"
   ]
  },
  {
   "cell_type": "code",
   "execution_count": 7,
   "metadata": {},
   "outputs": [
    {
     "data": {
      "text/plain": [
       "<matplotlib.axes._subplots.AxesSubplot at 0x1b15b81bf08>"
      ]
     },
     "execution_count": 7,
     "metadata": {},
     "output_type": "execute_result"
    },
    {
     "data": {
      "image/png": "[encoded data removed]",
      "text/plain": [
       "<Figure size 432x288 with 1 Axes>"
      ]
     },
     "metadata": {
      "needs_background": "light"
     },
     "output_type": "display_data"
    }
   ],
   "source": [
    "sns.distplot(df_train['NU_NOTA_MT'])"
   ]
  },
  {
   "cell_type": "code",
   "execution_count": 8,
   "metadata": {
    "tags": []
   },
   "outputs": [
    {
     "name": "stdout",
     "output_type": "stream",
     "text": [
      "Skewness: 0.9206896733932955\n",
      "Kurtosis: 1.4225025820577502\n"
     ]
    }
   ],
   "source": [
    "#skewness and kurtosis\n",
    "print(f\"Skewness: {df_train['NU_NOTA_MT'].skew()}\")\n",
    "print(f\"Kurtosis: {df_train['NU_NOTA_MT'].kurt()}\")"
   ]
  },
  {
   "cell_type": "code",
   "execution_count": 9,
   "metadata": {},
   "outputs": [
    {
     "data": {
      "text/plain": [
       "<matplotlib.axes._subplots.AxesSubplot at 0x1b15e566248>"
      ]
     },
     "execution_count": 9,
     "metadata": {},
     "output_type": "execute_result"
    },
    {
     "data": {
      "image/png": "[encoded data removed]",
      "text/plain": [
       "<Figure size 432x288 with 2 Axes>"
      ]
     },
     "metadata": {
      "needs_background": "light"
     },
     "output_type": "display_data"
    }
   ],
   "source": [
    "# Compute the correlation matrix\n",
    "corr = df_train[['NU_NOTA_CN', 'NU_NOTA_CH', 'NU_NOTA_LC', 'NU_NOTA_MT', 'NU_NOTA_REDACAO']].corr()\n",
    "\n",
    "sns.heatmap(corr)"
   ]
  },
  {
   "cell_type": "code",
   "execution_count": 10,
   "metadata": {},
   "outputs": [
    {
     "data": {
      "text/plain": [
       "3597"
      ]
     },
     "execution_count": 10,
     "metadata": {},
     "output_type": "execute_result"
    }
   ],
   "source": [
    "df_train['NU_NOTA_MT'].isna().sum()"
   ]
  },
  {
   "cell_type": "code",
   "execution_count": 11,
   "metadata": {},
   "outputs": [
    {
     "data": {
      "text/plain": [
       "0"
      ]
     },
     "execution_count": 11,
     "metadata": {},
     "output_type": "execute_result"
    }
   ],
   "source": [
    " df_train = df_train.dropna( how='all', subset=['NU_NOTA_MT'] )\n",
    " df_train['NU_NOTA_MT'].isna().sum()"
   ]
  },
  {
   "cell_type": "code",
   "execution_count": 12,
   "metadata": {},
   "outputs": [],
   "source": [
    "features = ['NU_NOTA_CN', 'NU_NOTA_CH', 'NU_NOTA_LC', 'NU_NOTA_REDACAO']"
   ]
  },
  {
   "cell_type": "code",
   "execution_count": 13,
   "metadata": {},
   "outputs": [
    {
     "data": {
      "text/plain": [
       "<matplotlib.axes._subplots.AxesSubplot at 0x1b15e6404c8>"
      ]
     },
     "execution_count": 13,
     "metadata": {},
     "output_type": "execute_result"
    },
    {
     "data": {
      "image/png": "[encoded data removed]",
      "text/plain": [
       "<Figure size 432x288 with 1 Axes>"
      ]
     },
     "metadata": {
      "needs_background": "light"
     },
     "output_type": "display_data"
    }
   ],
   "source": [
    "sns.boxplot(data=df_train[features])"
   ]
  },
  {
   "cell_type": "code",
   "execution_count": 14,
   "metadata": {},
   "outputs": [
    {
     "data": {
      "text/plain": [
       "NU_NOTA_CN         36\n",
       "NU_NOTA_CH         36\n",
       "NU_NOTA_LC          0\n",
       "NU_NOTA_REDACAO     0\n",
       "dtype: int64"
      ]
     },
     "execution_count": 14,
     "metadata": {},
     "output_type": "execute_result"
    }
   ],
   "source": [
    "df_train[features].isna().sum()"
   ]
  },
  {
   "cell_type": "code",
   "execution_count": 15,
   "metadata": {},
   "outputs": [
    {
     "data": {
      "text/plain": [
       "NU_NOTA_CN         0\n",
       "NU_NOTA_CH         0\n",
       "NU_NOTA_LC         0\n",
       "NU_NOTA_REDACAO    0\n",
       "dtype: int64"
      ]
     },
     "execution_count": 15,
     "metadata": {},
     "output_type": "execute_result"
    }
   ],
   "source": [
    "df_train[features] = df_train[features].fillna(-1)\n",
    "df_train[features].isna().sum()"
   ]
  },
  {
   "cell_type": "code",
   "execution_count": 16,
   "metadata": {},
   "outputs": [],
   "source": [
    "x = df_train[features]\n",
    "y = df_train['NU_NOTA_MT']"
   ]
  },
  {
   "cell_type": "code",
   "execution_count": 17,
   "metadata": {},
   "outputs": [],
   "source": [
    "#modeling\n",
    "forest = RandomForestRegressor(max_depth=12, min_samples_leaf=5)\n",
    "forest_fit = forest.fit(x, y)"
   ]
  },
  {
   "cell_type": "code",
   "execution_count": 18,
   "metadata": {},
   "outputs": [],
   "source": [
    "#predicting\n",
    "df_test[features] = df_test[features].fillna(-1)\n",
    "predict = forest_fit.predict( df_test[features] )"
   ]
  },
  {
   "cell_type": "code",
   "execution_count": 19,
   "metadata": {},
   "outputs": [],
   "source": [
    "answer = df_test[['NU_INSCRICAO']].copy()\n",
    "answer['NU_NOTA_MT'] = predict"
   ]
  },
  {
   "cell_type": "code",
   "execution_count": 20,
   "metadata": {},
   "outputs": [
    {
     "data": {
      "text/html": [
       "<div>\n",
       "<style scoped>\n",
       "    .dataframe tbody tr th:only-of-type {\n",
       "        vertical-align: middle;\n",
       "    }\n",
       "\n",
       "    .dataframe tbody tr th {\n",
       "        vertical-align: top;\n",
       "    }\n",
       "\n",
       "    .dataframe thead th {\n",
       "        text-align: right;\n",
       "    }\n",
       "</style>\n",
       "<table border=\"1\" class=\"dataframe\">\n",
       "  <thead>\n",
       "    <tr style=\"text-align: right;\">\n",
       "      <th></th>\n",
       "      <th>NU_INSCRICAO</th>\n",
       "      <th>NU_NOTA_MT</th>\n",
       "    </tr>\n",
       "  </thead>\n",
       "  <tbody>\n",
       "    <tr>\n",
       "      <th>0</th>\n",
       "      <td>73ff9fcc02f0a99919906c942c2e1a1042cdcf98</td>\n",
       "      <td>427.743441</td>\n",
       "    </tr>\n",
       "    <tr>\n",
       "      <th>1</th>\n",
       "      <td>71a95f9f1b91a82c65ad94abbdf9f54e6066f968</td>\n",
       "      <td>448.683530</td>\n",
       "    </tr>\n",
       "    <tr>\n",
       "      <th>2</th>\n",
       "      <td>b38a03232f43b11c9d0788abaf060f7366053b6d</td>\n",
       "      <td>598.695131</td>\n",
       "    </tr>\n",
       "    <tr>\n",
       "      <th>3</th>\n",
       "      <td>70b682d9a3636be23f6120fa9d6b164eb3c6002d</td>\n",
       "      <td>98.372418</td>\n",
       "    </tr>\n",
       "    <tr>\n",
       "      <th>4</th>\n",
       "      <td>715494628a50142ce8cb17191cfe6d0f3cae0934</td>\n",
       "      <td>533.631902</td>\n",
       "    </tr>\n",
       "  </tbody>\n",
       "</table>\n",
       "</div>"
      ],
      "text/plain": [
       "                               NU_INSCRICAO  NU_NOTA_MT\n",
       "0  73ff9fcc02f0a99919906c942c2e1a1042cdcf98  427.743441\n",
       "1  71a95f9f1b91a82c65ad94abbdf9f54e6066f968  448.683530\n",
       "2  b38a03232f43b11c9d0788abaf060f7366053b6d  598.695131\n",
       "3  70b682d9a3636be23f6120fa9d6b164eb3c6002d   98.372418\n",
       "4  715494628a50142ce8cb17191cfe6d0f3cae0934  533.631902"
      ]
     },
     "execution_count": 20,
     "metadata": {},
     "output_type": "execute_result"
    }
   ],
   "source": [
    "answer.head()"
   ]
  },
  {
   "cell_type": "code",
   "execution_count": 21,
   "metadata": {},
   "outputs": [],
   "source": [
    "answer.to_csv('answer.csv', index=False)"
   ]
  }
 ],
 "metadata": {
  "kernelspec": {
   "display_name": "Python 3",
   "language": "python",
   "name": "python3"
  },
  "language_info": {
   "codemirror_mode": {
    "name": "ipython",
    "version": 3
   },
   "file_extension": ".py",
   "mimetype": "text/x-python",
   "name": "python",
   "nbconvert_exporter": "python",
   "pygments_lexer": "ipython3",
   "version": "3.7.6"
  }
 },
 "nbformat": 4,
 "nbformat_minor": 2
}
