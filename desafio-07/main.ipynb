{
 "cells": [
  {
   "cell_type": "markdown",
   "metadata": {},
   "source": [
    "## Desafio\n",
    "\n",
    "Alguns estudantes decidem realizar prova do ENEM de forma precoce, como um teste (coluna `IN_TREINEIRO`). Nesse sentido, o desafio foi criar um modelo de classificação binária para inferir a mesma. Os resultados possíveis da resposta devem ser “0” ou “1”.\n",
    "\n",
    "Para isso, foi utilizado a base de dados do ENEM 2016 disponíveis nos arquivos train.csv e teste.csv. A resposta foi salva em um arquivo chamado answer.csv com duas colunas: `NU_INSCRICAO` e `IN_TREINEIRO`.\n",
    "\n",
    "\n",
    "Obs: Qualquer dúvida a respeito das colunas, consulte o [Dicionário dos Microdados do Enem 2016](https://s3-us-west-1.amazonaws.com/acceleration-assets-highway/data-science/dicionario-de-dados.zip)."
   ]
  },
  {
   "cell_type": "markdown",
   "metadata": {},
   "source": [
    "### Setup"
   ]
  },
  {
   "cell_type": "code",
   "execution_count": 1,
   "metadata": {},
   "outputs": [],
   "source": [
    "import pandas as pd \n",
    "import numpy as np \n",
    "\n",
    "import matplotlib.pyplot as plt \n",
    "import seaborn as sns \n",
    "\n",
    "from sklearn.decomposition import PCA\n",
    "from imblearn.over_sampling import SMOTE\n",
    "from sklearn.preprocessing import OneHotEncoder\n",
    "from sklearn.ensemble import RandomForestClassifier"
   ]
  },
  {
   "cell_type": "code",
   "execution_count": 2,
   "metadata": {},
   "outputs": [],
   "source": [
    "# Configuraçãoes do Matplotlib\n",
    "plt.rc(\"figure\", figsize=(10, 6))\n",
    "sns.set(style=\"dark\", palette=\"Accent\")"
   ]
  },
  {
   "cell_type": "code",
   "execution_count": 3,
   "metadata": {},
   "outputs": [],
   "source": [
    "train = pd.read_csv('train.csv')\n",
    "test = pd.read_csv('test.csv')"
   ]
  },
  {
   "cell_type": "markdown",
   "metadata": {},
   "source": [
    "### Análise Exploratória dos Dados"
   ]
  },
  {
   "cell_type": "code",
   "execution_count": 4,
   "metadata": {},
   "outputs": [
    {
     "data": {
      "text/plain": [
       "Index(['Unnamed: 0', 'NU_INSCRICAO', 'NU_ANO', 'CO_MUNICIPIO_RESIDENCIA',\n",
       "       'NO_MUNICIPIO_RESIDENCIA', 'CO_UF_RESIDENCIA', 'SG_UF_RESIDENCIA',\n",
       "       'NU_IDADE', 'TP_SEXO', 'TP_ESTADO_CIVIL',\n",
       "       ...\n",
       "       'Q041', 'Q042', 'Q043', 'Q044', 'Q045', 'Q046', 'Q047', 'Q048', 'Q049',\n",
       "       'Q050'],\n",
       "      dtype='object', length=167)"
      ]
     },
     "execution_count": 4,
     "metadata": {},
     "output_type": "execute_result"
    }
   ],
   "source": [
    "train.columns"
   ]
  },
  {
   "cell_type": "code",
   "execution_count": 5,
   "metadata": {},
   "outputs": [
    {
     "data": {
      "text/plain": [
       "Index(['NU_INSCRICAO', 'CO_UF_RESIDENCIA', 'SG_UF_RESIDENCIA', 'NU_IDADE',\n",
       "       'TP_SEXO', 'TP_COR_RACA', 'TP_NACIONALIDADE', 'TP_ST_CONCLUSAO',\n",
       "       'TP_ANO_CONCLUIU', 'TP_ESCOLA', 'TP_ENSINO', 'TP_DEPENDENCIA_ADM_ESC',\n",
       "       'IN_BAIXA_VISAO', 'IN_CEGUEIRA', 'IN_SURDEZ', 'IN_DISLEXIA',\n",
       "       'IN_DISCALCULIA', 'IN_SABATISTA', 'IN_GESTANTE', 'IN_IDOSO',\n",
       "       'TP_PRESENCA_CN', 'TP_PRESENCA_CH', 'TP_PRESENCA_LC', 'TP_PRESENCA_MT',\n",
       "       'NU_NOTA_CN', 'NU_NOTA_CH', 'NU_NOTA_LC', 'TP_LINGUA',\n",
       "       'TP_STATUS_REDACAO', 'NU_NOTA_COMP1', 'NU_NOTA_COMP2', 'NU_NOTA_COMP3',\n",
       "       'NU_NOTA_COMP4', 'NU_NOTA_COMP5', 'NU_NOTA_REDACAO', 'Q001', 'Q002',\n",
       "       'Q006', 'Q024', 'Q025', 'Q026', 'Q027', 'Q047'],\n",
       "      dtype='object')"
      ]
     },
     "execution_count": 5,
     "metadata": {},
     "output_type": "execute_result"
    }
   ],
   "source": [
    "test.columns"
   ]
  },
  {
   "cell_type": "code",
   "execution_count": 6,
   "metadata": {
    "scrolled": true,
    "tags": []
   },
   "outputs": [
    {
     "name": "stdout",
     "output_type": "stream",
     "text": [
      "Shape do df de treino: (13730, 167)\n",
      "Shape do df de teste: (4570, 43)\n"
     ]
    }
   ],
   "source": [
    "print(f'Shape do df de treino: {train.shape}\\nShape do df de teste: {test.shape}')"
   ]
  },
  {
   "cell_type": "markdown",
   "metadata": {},
   "source": [
    "Nota-se que o conjundo de dados de treino possui 13730 registros e 166 colunas. Enquanto, o conjundo de dados de teste possui somente 4576 registros e 47 colunas."
   ]
  },
  {
   "cell_type": "code",
   "execution_count": 7,
   "metadata": {},
   "outputs": [
    {
     "data": {
      "text/plain": [
       "0    11947\n",
       "1     1783\n",
       "Name: IN_TREINEIRO, dtype: int64"
      ]
     },
     "execution_count": 7,
     "metadata": {},
     "output_type": "execute_result"
    }
   ],
   "source": [
    "train['IN_TREINEIRO'].value_counts()"
   ]
  },
  {
   "cell_type": "code",
   "execution_count": 31,
   "metadata": {
    "tags": []
   },
   "outputs": [
    {
     "name": "stdout",
     "output_type": "stream",
     "text": [
      "14.92% dos participantes são treineiros\n"
     ]
    }
   ],
   "source": [
    "#Analisando a porcentagem de treineiros no dataset\n",
    "treneiros = train.IN_TREINEIRO.value_counts()[1]/train.IN_TREINEIRO.value_counts()[0] * 100\n",
    "print(f'{round(treneiros, 2)}% dos participantes são treineiros')"
   ]
  },
  {
   "cell_type": "code",
   "execution_count": 10,
   "metadata": {},
   "outputs": [],
   "source": [
    "def plota_treineiros(classes):   \n",
    "    sns.countplot(classes)\n",
    "    plt.title(\"Proporção das Classes\", fontsize=25)\n",
    "    plt.ylabel(\"Quantidade\", fontsize=18)\n",
    "    plt.xlabel(\"Classes\", fontsize=18)\n",
    "    \n",
    "    plt.grid(True)"
   ]
  },
  {
   "cell_type": "code",
   "execution_count": 11,
   "metadata": {},
   "outputs": [
    {
     "data": {
      "image/png": "[encoded data removed]",
      "text/plain": [
       "<Figure size 720x432 with 1 Axes>"
      ]
     },
     "metadata": {},
     "output_type": "display_data"
    }
   ],
   "source": [
    "plota_treineiros(train[\"IN_TREINEIRO\"])"
   ]
  },
  {
   "cell_type": "markdown",
   "metadata": {},
   "source": [
    "### Feature Engineering"
   ]
  },
  {
   "cell_type": "code",
   "execution_count": 12,
   "metadata": {},
   "outputs": [
    {
     "data": {
      "text/plain": [
       "NO_ENTIDADE_CERTIFICACAO       12092\n",
       "CO_UF_ENTIDADE_CERTIFICACAO    12092\n",
       "SG_UF_ENTIDADE_CERTIFICACAO    12092\n",
       "Q041                           10792\n",
       "SG_UF_ESC                       9448\n",
       "TP_LOCALIZACAO_ESC              9448\n",
       "TP_SIT_FUNC_ESC                 9448\n",
       "CO_UF_ESC                       9448\n",
       "NO_MUNICIPIO_ESC                9448\n",
       "CO_MUNICIPIO_ESC                9448\n",
       "CO_ESCOLA                       9448\n",
       "TP_ENSINO                       9448\n",
       "TP_DEPENDENCIA_ADM_ESC          9448\n",
       "Q032                            7376\n",
       "Q031                            7376\n",
       "Q028                            7376\n",
       "Q033                            7376\n",
       "Q030                            7375\n",
       "Q029                            7375\n",
       "Q027                            7373\n",
       "NU_NOTA_COMP1                   3597\n",
       "NU_NOTA_LC                      3597\n",
       "NU_NOTA_REDACAO                 3597\n",
       "NU_NOTA_MT                      3597\n",
       "TP_STATUS_REDACAO               3597\n",
       "NU_NOTA_COMP5                   3597\n",
       "TX_RESPOSTAS_LC                 3597\n",
       "TX_RESPOSTAS_MT                 3597\n",
       "NU_NOTA_COMP4                   3597\n",
       "NU_NOTA_COMP3                   3597\n",
       "NU_NOTA_COMP2                   3597\n",
       "TX_GABARITO_MT                  3597\n",
       "TX_GABARITO_LC                  3597\n",
       "TX_RESPOSTAS_CN                 3389\n",
       "NU_NOTA_CN                      3389\n",
       "NU_NOTA_CH                      3389\n",
       "TX_RESPOSTAS_CH                 3389\n",
       "TX_GABARITO_CN                  3389\n",
       "TX_GABARITO_CH                  3389\n",
       "SG_UF_NASCIMENTO                 609\n",
       "CO_UF_NASCIMENTO                 609\n",
       "NO_MUNICIPIO_NASCIMENTO          609\n",
       "CO_MUNICIPIO_NASCIMENTO          609\n",
       "TP_ESTADO_CIVIL                  528\n",
       "dtype: int64"
      ]
     },
     "execution_count": 12,
     "metadata": {},
     "output_type": "execute_result"
    }
   ],
   "source": [
    "train.isna().sum()[train.isna().sum()>0].sort_values(ascending=False)"
   ]
  },
  {
   "cell_type": "code",
   "execution_count": 13,
   "metadata": {
    "scrolled": true
   },
   "outputs": [
    {
     "data": {
      "text/plain": [
       "NO_ENTIDADE_CERTIFICACAO       0.880699\n",
       "CO_UF_ENTIDADE_CERTIFICACAO    0.880699\n",
       "SG_UF_ENTIDADE_CERTIFICACAO    0.880699\n",
       "Q041                           0.786016\n",
       "SG_UF_ESC                      0.688128\n",
       "TP_LOCALIZACAO_ESC             0.688128\n",
       "TP_SIT_FUNC_ESC                0.688128\n",
       "CO_UF_ESC                      0.688128\n",
       "NO_MUNICIPIO_ESC               0.688128\n",
       "CO_MUNICIPIO_ESC               0.688128\n",
       "CO_ESCOLA                      0.688128\n",
       "TP_ENSINO                      0.688128\n",
       "TP_DEPENDENCIA_ADM_ESC         0.688128\n",
       "Q032                           0.537218\n",
       "Q031                           0.537218\n",
       "Q028                           0.537218\n",
       "Q033                           0.537218\n",
       "Q030                           0.537145\n",
       "Q029                           0.537145\n",
       "Q027                           0.536999\n",
       "NU_NOTA_COMP1                  0.261981\n",
       "NU_NOTA_LC                     0.261981\n",
       "NU_NOTA_REDACAO                0.261981\n",
       "NU_NOTA_MT                     0.261981\n",
       "TP_STATUS_REDACAO              0.261981\n",
       "NU_NOTA_COMP5                  0.261981\n",
       "TX_RESPOSTAS_LC                0.261981\n",
       "TX_RESPOSTAS_MT                0.261981\n",
       "NU_NOTA_COMP4                  0.261981\n",
       "NU_NOTA_COMP3                  0.261981\n",
       "NU_NOTA_COMP2                  0.261981\n",
       "TX_GABARITO_MT                 0.261981\n",
       "TX_GABARITO_LC                 0.261981\n",
       "TX_RESPOSTAS_CN                0.246832\n",
       "NU_NOTA_CN                     0.246832\n",
       "NU_NOTA_CH                     0.246832\n",
       "TX_RESPOSTAS_CH                0.246832\n",
       "TX_GABARITO_CN                 0.246832\n",
       "TX_GABARITO_CH                 0.246832\n",
       "SG_UF_NASCIMENTO               0.044355\n",
       "CO_UF_NASCIMENTO               0.044355\n",
       "NO_MUNICIPIO_NASCIMENTO        0.044355\n",
       "CO_MUNICIPIO_NASCIMENTO        0.044355\n",
       "TP_ESTADO_CIVIL                0.038456\n",
       "dtype: float64"
      ]
     },
     "execution_count": 13,
     "metadata": {},
     "output_type": "execute_result"
    }
   ],
   "source": [
    "train.isna().sum()[train.isna().sum()>0].sort_values(ascending=False)/train.shape[0]"
   ]
  },
  {
   "cell_type": "code",
   "execution_count": 14,
   "metadata": {},
   "outputs": [
    {
     "data": {
      "text/plain": [
       "<matplotlib.axes._subplots.AxesSubplot at 0x1ec511d0f08>"
      ]
     },
     "execution_count": 14,
     "metadata": {},
     "output_type": "execute_result"
    },
    {
     "data": {
      "image/png": "[encoded data removed]",
      "text/plain": [
       "<Figure size 720x432 with 2 Axes>"
      ]
     },
     "metadata": {},
     "output_type": "display_data"
    }
   ],
   "source": [
    "# Selecionando as features com menos dados faltantes para analisar a matriz de correlação\n",
    "features = [\n",
    "            'NU_IDADE',\n",
    "            'TP_SEXO',\n",
    "            'TP_NACIONALIDADE',\n",
    "            'TP_ST_CONCLUSAO',\n",
    "            'TP_ANO_CONCLUIU',\n",
    "            'TP_ESCOLA',\n",
    "            'TP_PRESENCA_CN',\n",
    "            'TP_PRESENCA_CH',\n",
    "            'TP_PRESENCA_LC',\n",
    "            'NU_NOTA_CN',\n",
    "            'NU_NOTA_CH',\n",
    "            'NU_NOTA_LC',\n",
    "            'TP_LINGUA',\n",
    "            'TP_STATUS_REDACAO',\n",
    "            'NU_NOTA_REDACAO',\n",
    "            ]\n",
    "\n",
    "sns.heatmap(train[features].corr())"
   ]
  },
  {
   "cell_type": "code",
   "execution_count": 15,
   "metadata": {},
   "outputs": [],
   "source": [
    "target = 'IN_TREINEIRO'"
   ]
  },
  {
   "cell_type": "code",
   "execution_count": 16,
   "metadata": {},
   "outputs": [],
   "source": [
    "cat_features = train[features].select_dtypes('object').columns # variáveis categóricas\n",
    "num_features = train[features].select_dtypes('number').columns # variáveis numéricas"
   ]
  },
  {
   "cell_type": "code",
   "execution_count": 17,
   "metadata": {},
   "outputs": [],
   "source": [
    "train = train.dropna( how='all', subset=[target] )"
   ]
  },
  {
   "cell_type": "code",
   "execution_count": 18,
   "metadata": {},
   "outputs": [],
   "source": [
    "train[ cat_features ] = train[ cat_features ].fillna(-1).astype(str)\n",
    "train[ num_features ] = train[ num_features ].fillna(-1)\n",
    "\n",
    "test[ cat_features ] = test[ cat_features ].fillna(-1).astype(str)\n",
    "test[ num_features ] = test[ num_features ].fillna(-1)"
   ]
  },
  {
   "cell_type": "code",
   "execution_count": 19,
   "metadata": {},
   "outputs": [],
   "source": [
    "\n",
    "train = train.reset_index(drop=True)\n",
    "test = test.reset_index(drop=True)"
   ]
  },
  {
   "cell_type": "markdown",
   "metadata": {},
   "source": [
    "### Aplicando o One-Hot-Enconder nas variáveis categóricas.\n",
    "\n",
    "O one-hot-encoding transforma as variáveis categóricas em colunas binárias."
   ]
  },
  {
   "cell_type": "code",
   "execution_count": 20,
   "metadata": {},
   "outputs": [],
   "source": [
    "onehot = OneHotEncoder( sparse=False, handle_unknown='ignore' ).fit( train[cat_features] )"
   ]
  },
  {
   "cell_type": "code",
   "execution_count": 21,
   "metadata": {},
   "outputs": [],
   "source": [
    "df_onehot = pd.DataFrame( onehot.transform( train[cat_features] ), columns= onehot.get_feature_names( cat_features ))\n",
    "\n",
    "df_train = pd.concat( [train[num_features], df_onehot], axis=1, ignore_index=True)"
   ]
  },
  {
   "cell_type": "code",
   "execution_count": 22,
   "metadata": {},
   "outputs": [],
   "source": [
    "onehot_teste = OneHotEncoder( sparse=False, handle_unknown='ignore' ).fit( test[cat_features] )"
   ]
  },
  {
   "cell_type": "code",
   "execution_count": 23,
   "metadata": {},
   "outputs": [],
   "source": [
    "df_onehot_teste = pd.DataFrame( onehot_teste.transform( test[cat_features] ), columns=onehot_teste.get_feature_names( cat_features ))\n",
    "\n",
    "df_test = pd.concat( [test[num_features], df_onehot_teste], axis=1, ignore_index=True)"
   ]
  },
  {
   "cell_type": "markdown",
   "metadata": {},
   "source": [
    "### SMOTE\n",
    "\n",
    "O desbalanceamento dos dados prejudica a geração de modelos de classificação, principalmente, em relação a identificação de casos da classe minoritária. Para balancear os dados de treinamento, foi utilizada a técnica SMOTE (Synthetic Minority Oversampling Technique), que amplia a amostra de treinamento com instâncias sintéticas da classe minoritária"
   ]
  },
  {
   "cell_type": "code",
   "execution_count": 24,
   "metadata": {},
   "outputs": [],
   "source": [
    "smote = SMOTE(sampling_strategy=\"minority\")\n",
    "X_smote, y_smote = smote.fit_resample(df_train, train.IN_TREINEIRO)"
   ]
  },
  {
   "cell_type": "code",
   "execution_count": 25,
   "metadata": {},
   "outputs": [
    {
     "data": {
      "image/png": "[encoded data removed]",
      "text/plain": [
       "<Figure size 720x432 with 1 Axes>"
      ]
     },
     "metadata": {},
     "output_type": "display_data"
    }
   ],
   "source": [
    "plota_treineiros(y_smote)"
   ]
  },
  {
   "cell_type": "markdown",
   "metadata": {},
   "source": [
    "### Random Forest\n",
    "\n",
    "O Random Forest é um algoritmo de aprendizagem supervisionada. O Random Forest cria uma floresta de um modo aleatório. Sendo que, esta “floresta” criado é uma combinação (ensemble) de árvores de decisão, na maioria dos casos treinados com o método de bagging. A idéia principal do método de bagging é que a combinação dos modelos de aprendizado aumenta o resultado geral."
   ]
  },
  {
   "cell_type": "code",
   "execution_count": 26,
   "metadata": {},
   "outputs": [
    {
     "data": {
      "text/plain": [
       "RandomForestClassifier()"
      ]
     },
     "execution_count": 26,
     "metadata": {},
     "output_type": "execute_result"
    }
   ],
   "source": [
    "forest = RandomForestClassifier()\n",
    "\n",
    "forest.fit(X_smote, y_smote)"
   ]
  },
  {
   "cell_type": "code",
   "execution_count": 27,
   "metadata": {},
   "outputs": [],
   "source": [
    "classification = forest.predict(df_test)"
   ]
  },
  {
   "cell_type": "markdown",
   "metadata": {},
   "source": [
    "Salvando as predições feitas no arquivo answer.csv para submeter na plataforma da Codenation"
   ]
  },
  {
   "cell_type": "code",
   "execution_count": 28,
   "metadata": {},
   "outputs": [],
   "source": [
    "answer = test[['NU_INSCRICAO']].copy()\n",
    "answer['IN_TREINEIRO'] = classification"
   ]
  },
  {
   "cell_type": "code",
   "execution_count": 29,
   "metadata": {},
   "outputs": [
    {
     "data": {
      "text/html": [
       "<div>\n",
       "<style scoped>\n",
       "    .dataframe tbody tr th:only-of-type {\n",
       "        vertical-align: middle;\n",
       "    }\n",
       "\n",
       "    .dataframe tbody tr th {\n",
       "        vertical-align: top;\n",
       "    }\n",
       "\n",
       "    .dataframe thead th {\n",
       "        text-align: right;\n",
       "    }\n",
       "</style>\n",
       "<table border=\"1\" class=\"dataframe\">\n",
       "  <thead>\n",
       "    <tr style=\"text-align: right;\">\n",
       "      <th></th>\n",
       "      <th>NU_INSCRICAO</th>\n",
       "      <th>IN_TREINEIRO</th>\n",
       "    </tr>\n",
       "  </thead>\n",
       "  <tbody>\n",
       "    <tr>\n",
       "      <th>0</th>\n",
       "      <td>ba0cc30ba34e7a46764c09dfc38ed83d15828897</td>\n",
       "      <td>0</td>\n",
       "    </tr>\n",
       "    <tr>\n",
       "      <th>1</th>\n",
       "      <td>177f281c68fa032aedbd842a745da68490926cd2</td>\n",
       "      <td>0</td>\n",
       "    </tr>\n",
       "    <tr>\n",
       "      <th>2</th>\n",
       "      <td>6cf0d8b97597d7625cdedc7bdb6c0f052286c334</td>\n",
       "      <td>1</td>\n",
       "    </tr>\n",
       "    <tr>\n",
       "      <th>3</th>\n",
       "      <td>5c356d810fa57671402502cd0933e5601a2ebf1e</td>\n",
       "      <td>0</td>\n",
       "    </tr>\n",
       "    <tr>\n",
       "      <th>4</th>\n",
       "      <td>df47c07bd881c2db3f38c6048bf77c132ad0ceb3</td>\n",
       "      <td>0</td>\n",
       "    </tr>\n",
       "  </tbody>\n",
       "</table>\n",
       "</div>"
      ],
      "text/plain": [
       "                               NU_INSCRICAO  IN_TREINEIRO\n",
       "0  ba0cc30ba34e7a46764c09dfc38ed83d15828897             0\n",
       "1  177f281c68fa032aedbd842a745da68490926cd2             0\n",
       "2  6cf0d8b97597d7625cdedc7bdb6c0f052286c334             1\n",
       "3  5c356d810fa57671402502cd0933e5601a2ebf1e             0\n",
       "4  df47c07bd881c2db3f38c6048bf77c132ad0ceb3             0"
      ]
     },
     "execution_count": 29,
     "metadata": {},
     "output_type": "execute_result"
    }
   ],
   "source": [
    "answer.head()"
   ]
  },
  {
   "cell_type": "code",
   "execution_count": 30,
   "metadata": {},
   "outputs": [],
   "source": [
    "answer.to_csv('answer.csv', index=False)"
   ]
  },
  {
   "cell_type": "markdown",
   "metadata": {},
   "source": [
    "### Resultado \n",
    "\n",
    "Segundo a plataforma da codenation, esse modelo teve o score de 99.4967 %"
   ]
  }
 ],
 "metadata": {
  "kernelspec": {
   "display_name": "Python 3",
   "language": "python",
   "name": "python3"
  },
  "language_info": {
   "codemirror_mode": {
    "name": "ipython",
    "version": 3
   },
   "file_extension": ".py",
   "mimetype": "text/x-python",
   "name": "python",
   "nbconvert_exporter": "python",
   "pygments_lexer": "ipython3",
   "version": "3.7.6"
  }
 },
 "nbformat": 4,
 "nbformat_minor": 2
}
