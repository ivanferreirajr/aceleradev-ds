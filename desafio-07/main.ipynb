{
 "metadata": {
  "language_info": {
   "codemirror_mode": {
    "name": "ipython",
    "version": 3
   },
   "file_extension": ".py",
   "mimetype": "text/x-python",
   "name": "python",
   "nbconvert_exporter": "python",
   "pygments_lexer": "ipython3",
   "version": 3
  },
  "orig_nbformat": 2,
  "kernelspec": {
   "name": "python_defaultSpec_1596718532187",
   "display_name": "Python 3.7.6 64-bit ('base': conda)"
  }
 },
 "nbformat": 4,
 "nbformat_minor": 2,
 "cells": [
  {
   "cell_type": "markdown",
   "metadata": {},
   "source": [
    "### Setup"
   ]
  },
  {
   "cell_type": "code",
   "execution_count": 113,
   "metadata": {},
   "outputs": [],
   "source": [
    "import pandas as pd \n",
    "import numpy as np \n",
    "\n",
    "import matplotlib as plt \n",
    "import seaborn as sns \n",
    "\n",
    "from sklearn.decomposition import PCA\n",
    "from imblearn.over_sampling import SMOTE\n",
    "from sklearn.preprocessing import OneHotEncoder\n",
    "from sklearn.linear_model import LogisticRegression\n",
    "from sklearn.ensemble import RandomForestClassifier"
   ]
  },
  {
   "cell_type": "code",
   "execution_count": 114,
   "metadata": {},
   "outputs": [],
   "source": [
    "train = pd.read_csv('train.csv')\n",
    "test = pd.read_csv('test.csv')"
   ]
  },
  {
   "cell_type": "markdown",
   "metadata": {},
   "source": [
    "### Visão geral"
   ]
  },
  {
   "cell_type": "code",
   "execution_count": 115,
   "metadata": {},
   "outputs": [
    {
     "output_type": "execute_result",
     "data": {
      "text/plain": "Index(['Unnamed: 0', 'NU_INSCRICAO', 'NU_ANO', 'CO_MUNICIPIO_RESIDENCIA',\n       'NO_MUNICIPIO_RESIDENCIA', 'CO_UF_RESIDENCIA', 'SG_UF_RESIDENCIA',\n       'NU_IDADE', 'TP_SEXO', 'TP_ESTADO_CIVIL',\n       ...\n       'Q041', 'Q042', 'Q043', 'Q044', 'Q045', 'Q046', 'Q047', 'Q048', 'Q049',\n       'Q050'],\n      dtype='object', length=167)"
     },
     "metadata": {},
     "execution_count": 115
    }
   ],
   "source": [
    "train.columns"
   ]
  },
  {
   "cell_type": "code",
   "execution_count": 116,
   "metadata": {},
   "outputs": [
    {
     "output_type": "execute_result",
     "data": {
      "text/plain": "Index(['NU_INSCRICAO', 'CO_UF_RESIDENCIA', 'SG_UF_RESIDENCIA', 'NU_IDADE',\n       'TP_SEXO', 'TP_COR_RACA', 'TP_NACIONALIDADE', 'TP_ST_CONCLUSAO',\n       'TP_ANO_CONCLUIU', 'TP_ESCOLA', 'TP_ENSINO', 'TP_DEPENDENCIA_ADM_ESC',\n       'IN_BAIXA_VISAO', 'IN_CEGUEIRA', 'IN_SURDEZ', 'IN_DISLEXIA',\n       'IN_DISCALCULIA', 'IN_SABATISTA', 'IN_GESTANTE', 'IN_IDOSO',\n       'TP_PRESENCA_CN', 'TP_PRESENCA_CH', 'TP_PRESENCA_LC', 'TP_PRESENCA_MT',\n       'NU_NOTA_CN', 'NU_NOTA_CH', 'NU_NOTA_LC', 'TP_LINGUA',\n       'TP_STATUS_REDACAO', 'NU_NOTA_COMP1', 'NU_NOTA_COMP2', 'NU_NOTA_COMP3',\n       'NU_NOTA_COMP4', 'NU_NOTA_COMP5', 'NU_NOTA_REDACAO', 'Q001', 'Q002',\n       'Q006', 'Q024', 'Q025', 'Q026', 'Q027', 'Q047'],\n      dtype='object')"
     },
     "metadata": {},
     "execution_count": 116
    }
   ],
   "source": [
    "test.columns"
   ]
  },
  {
   "cell_type": "code",
   "execution_count": 117,
   "metadata": {
    "tags": []
   },
   "outputs": [
    {
     "output_type": "stream",
     "name": "stdout",
     "text": "Shape do df de treino: (13730, 167)\nShape do df de teste: (4570, 43)\n"
    }
   ],
   "source": [
    "print(f'Shape do df de treino: {train.shape}\\nShape do df de teste: {test.shape}')"
   ]
  },
  {
   "cell_type": "code",
   "execution_count": 118,
   "metadata": {},
   "outputs": [
    {
     "output_type": "execute_result",
     "data": {
      "text/plain": "0    11947\n1     1783\nName: IN_TREINEIRO, dtype: int64"
     },
     "metadata": {},
     "execution_count": 118
    }
   ],
   "source": [
    "train['IN_TREINEIRO'].value_counts()"
   ]
  },
  {
   "cell_type": "code",
   "execution_count": 119,
   "metadata": {
    "tags": []
   },
   "outputs": [
    {
     "output_type": "stream",
     "name": "stdout",
     "text": "12.99% dos participantes são treineiros\n"
    }
   ],
   "source": [
    "#Analisando a porcentagem de treineiros no dataset\n",
    "treneiros = train['IN_TREINEIRO'].value_counts()[1] * 100 / train.shape[0]\n",
    "print(f'{round(treneiros, 2)}% dos participantes são treineiros')"
   ]
  },
  {
   "cell_type": "code",
   "execution_count": 120,
   "metadata": {},
   "outputs": [
    {
     "output_type": "execute_result",
     "data": {
      "text/plain": "0.1492424876538043"
     },
     "metadata": {},
     "execution_count": 120
    }
   ],
   "source": [
    "# Proporção\n",
    "train.IN_TREINEIRO.value_counts()[1]/train.IN_TREINEIRO.value_counts()[0]"
   ]
  },
  {
   "cell_type": "markdown",
   "metadata": {},
   "source": [
    "### Feature Engineering"
   ]
  },
  {
   "cell_type": "code",
   "execution_count": 121,
   "metadata": {},
   "outputs": [
    {
     "output_type": "execute_result",
     "data": {
      "text/plain": "NO_ENTIDADE_CERTIFICACAO       12092\nCO_UF_ENTIDADE_CERTIFICACAO    12092\nSG_UF_ENTIDADE_CERTIFICACAO    12092\nQ041                           10792\nSG_UF_ESC                       9448\nTP_LOCALIZACAO_ESC              9448\nTP_SIT_FUNC_ESC                 9448\nCO_UF_ESC                       9448\nNO_MUNICIPIO_ESC                9448\nCO_MUNICIPIO_ESC                9448\nCO_ESCOLA                       9448\nTP_ENSINO                       9448\nTP_DEPENDENCIA_ADM_ESC          9448\nQ032                            7376\nQ031                            7376\nQ028                            7376\nQ033                            7376\nQ030                            7375\nQ029                            7375\nQ027                            7373\nNU_NOTA_COMP1                   3597\nNU_NOTA_LC                      3597\nNU_NOTA_REDACAO                 3597\nNU_NOTA_MT                      3597\nTP_STATUS_REDACAO               3597\nNU_NOTA_COMP5                   3597\nTX_RESPOSTAS_LC                 3597\nTX_RESPOSTAS_MT                 3597\nNU_NOTA_COMP4                   3597\nNU_NOTA_COMP3                   3597\nNU_NOTA_COMP2                   3597\nTX_GABARITO_MT                  3597\nTX_GABARITO_LC                  3597\nTX_RESPOSTAS_CN                 3389\nNU_NOTA_CN                      3389\nNU_NOTA_CH                      3389\nTX_RESPOSTAS_CH                 3389\nTX_GABARITO_CN                  3389\nTX_GABARITO_CH                  3389\nSG_UF_NASCIMENTO                 609\nCO_UF_NASCIMENTO                 609\nNO_MUNICIPIO_NASCIMENTO          609\nCO_MUNICIPIO_NASCIMENTO          609\nTP_ESTADO_CIVIL                  528\ndtype: int64"
     },
     "metadata": {},
     "execution_count": 121
    }
   ],
   "source": [
    "train.isna().sum()[train.isna().sum()>0].sort_values(ascending=False)"
   ]
  },
  {
   "cell_type": "code",
   "execution_count": 122,
   "metadata": {},
   "outputs": [
    {
     "output_type": "execute_result",
     "data": {
      "text/plain": "NO_ENTIDADE_CERTIFICACAO       0.880699\nCO_UF_ENTIDADE_CERTIFICACAO    0.880699\nSG_UF_ENTIDADE_CERTIFICACAO    0.880699\nQ041                           0.786016\nSG_UF_ESC                      0.688128\nTP_LOCALIZACAO_ESC             0.688128\nTP_SIT_FUNC_ESC                0.688128\nCO_UF_ESC                      0.688128\nNO_MUNICIPIO_ESC               0.688128\nCO_MUNICIPIO_ESC               0.688128\nCO_ESCOLA                      0.688128\nTP_ENSINO                      0.688128\nTP_DEPENDENCIA_ADM_ESC         0.688128\nQ032                           0.537218\nQ031                           0.537218\nQ028                           0.537218\nQ033                           0.537218\nQ030                           0.537145\nQ029                           0.537145\nQ027                           0.536999\nNU_NOTA_COMP1                  0.261981\nNU_NOTA_LC                     0.261981\nNU_NOTA_REDACAO                0.261981\nNU_NOTA_MT                     0.261981\nTP_STATUS_REDACAO              0.261981\nNU_NOTA_COMP5                  0.261981\nTX_RESPOSTAS_LC                0.261981\nTX_RESPOSTAS_MT                0.261981\nNU_NOTA_COMP4                  0.261981\nNU_NOTA_COMP3                  0.261981\nNU_NOTA_COMP2                  0.261981\nTX_GABARITO_MT                 0.261981\nTX_GABARITO_LC                 0.261981\nTX_RESPOSTAS_CN                0.246832\nNU_NOTA_CN                     0.246832\nNU_NOTA_CH                     0.246832\nTX_RESPOSTAS_CH                0.246832\nTX_GABARITO_CN                 0.246832\nTX_GABARITO_CH                 0.246832\nSG_UF_NASCIMENTO               0.044355\nCO_UF_NASCIMENTO               0.044355\nNO_MUNICIPIO_NASCIMENTO        0.044355\nCO_MUNICIPIO_NASCIMENTO        0.044355\nTP_ESTADO_CIVIL                0.038456\ndtype: float64"
     },
     "metadata": {},
     "execution_count": 122
    }
   ],
   "source": [
    "train.isna().sum()[train.isna().sum()>0].sort_values(ascending=False)/train.shape[0]"
   ]
  },
  {
   "cell_type": "code",
   "execution_count": 123,
   "metadata": {},
   "outputs": [],
   "source": [
    "features = [\n",
    "            'NU_IDADE',\n",
    "            'TP_SEXO',\n",
    "            'TP_NACIONALIDADE',\n",
    "            'TP_ST_CONCLUSAO',\n",
    "            'TP_ANO_CONCLUIU',\n",
    "            'TP_ESCOLA',\n",
    "            'TP_PRESENCA_CN',\n",
    "            'TP_PRESENCA_CH',\n",
    "            'TP_PRESENCA_LC',\n",
    "            'NU_NOTA_CN',\n",
    "            'NU_NOTA_CH',\n",
    "            'NU_NOTA_LC',\n",
    "            'TP_LINGUA',\n",
    "            'TP_STATUS_REDACAO',\n",
    "            'NU_NOTA_REDACAO',\n",
    "            ]\n",
    "\n",
    "target = 'IN_TREINEIRO'"
   ]
  },
  {
   "cell_type": "code",
   "execution_count": 124,
   "metadata": {},
   "outputs": [],
   "source": [
    "cat_features = train[features].select_dtypes('object').columns # variáveis categóricas\n",
    "num_features = train[features].select_dtypes('number').columns # variáveis numéricas"
   ]
  },
  {
   "cell_type": "code",
   "execution_count": 125,
   "metadata": {},
   "outputs": [],
   "source": [
    "train = train.dropna( how='all', subset=[target] )"
   ]
  },
  {
   "cell_type": "code",
   "execution_count": 126,
   "metadata": {},
   "outputs": [],
   "source": [
    "train[ cat_features ] = train[ cat_features ].fillna(-1).astype(str)\n",
    "train[ num_features ] = train[ num_features ].fillna(-1)\n",
    "\n",
    "test[ cat_features ] = test[ cat_features ].fillna(-1).astype(str)\n",
    "test[ num_features ] = test[ num_features ].fillna(-1)"
   ]
  },
  {
   "cell_type": "code",
   "execution_count": 127,
   "metadata": {},
   "outputs": [],
   "source": [
    "\n",
    "train = train.reset_index(drop=True)\n",
    "test = test.reset_index(drop=True)"
   ]
  },
  {
   "cell_type": "code",
   "execution_count": 128,
   "metadata": {},
   "outputs": [],
   "source": [
    "onehot = OneHotEncoder( sparse=False, handle_unknown='ignore' ).fit( train[cat_features] )"
   ]
  },
  {
   "cell_type": "code",
   "execution_count": 129,
   "metadata": {},
   "outputs": [],
   "source": [
    "df_onehot = pd.DataFrame( onehot.transform( train[cat_features] ), columns= onehot.get_feature_names( cat_features ))\n",
    "\n",
    "df_train = pd.concat( [train[num_features], df_onehot], axis=1, ignore_index=True)"
   ]
  },
  {
   "cell_type": "code",
   "execution_count": 130,
   "metadata": {},
   "outputs": [],
   "source": [
    "onehot_teste = OneHotEncoder( sparse=False, handle_unknown='ignore' ).fit( test[cat_features] )"
   ]
  },
  {
   "cell_type": "code",
   "execution_count": 131,
   "metadata": {},
   "outputs": [],
   "source": [
    "df_onehot_teste = pd.DataFrame( onehot_teste.transform( test[cat_features] ), columns=onehot_teste.get_feature_names( cat_features ))\n",
    "\n",
    "df_test = pd.concat( [test[num_features], df_onehot_teste], axis=1, ignore_index=True)"
   ]
  },
  {
   "cell_type": "markdown",
   "metadata": {},
   "source": []
  },
  {
   "cell_type": "markdown",
   "metadata": {},
   "source": [
    "### SMOTE"
   ]
  },
  {
   "cell_type": "code",
   "execution_count": 132,
   "metadata": {},
   "outputs": [],
   "source": [
    "smote = SMOTE(sampling_strategy=\"minority\")\n",
    "X_smote, y_smote = smote.fit_resample(df_train, train.IN_TREINEIRO)"
   ]
  },
  {
   "cell_type": "markdown",
   "metadata": {},
   "source": [
    "### Random Forest"
   ]
  },
  {
   "cell_type": "code",
   "execution_count": 133,
   "metadata": {},
   "outputs": [
    {
     "output_type": "execute_result",
     "data": {
      "text/plain": "RandomForestClassifier()"
     },
     "metadata": {},
     "execution_count": 133
    }
   ],
   "source": [
    "forest = RandomForestClassifier()\n",
    "\n",
    "forest.fit(X_smote, y_smote)"
   ]
  },
  {
   "cell_type": "code",
   "execution_count": 134,
   "metadata": {},
   "outputs": [],
   "source": [
    "classification = forest.predict(df_test)"
   ]
  },
  {
   "cell_type": "code",
   "execution_count": 135,
   "metadata": {},
   "outputs": [],
   "source": [
    "answer = test[['NU_INSCRICAO']].copy()\n",
    "answer['IN_TREINEIRO'] = classification"
   ]
  },
  {
   "cell_type": "code",
   "execution_count": 136,
   "metadata": {},
   "outputs": [
    {
     "output_type": "execute_result",
     "data": {
      "text/plain": "                               NU_INSCRICAO  IN_TREINEIRO\n0  ba0cc30ba34e7a46764c09dfc38ed83d15828897             0\n1  177f281c68fa032aedbd842a745da68490926cd2             0\n2  6cf0d8b97597d7625cdedc7bdb6c0f052286c334             1\n3  5c356d810fa57671402502cd0933e5601a2ebf1e             0\n4  df47c07bd881c2db3f38c6048bf77c132ad0ceb3             0",
      "text/html": "<div>\n<style scoped>\n    .dataframe tbody tr th:only-of-type {\n        vertical-align: middle;\n    }\n\n    .dataframe tbody tr th {\n        vertical-align: top;\n    }\n\n    .dataframe thead th {\n        text-align: right;\n    }\n</style>\n<table border=\"1\" class=\"dataframe\">\n  <thead>\n    <tr style=\"text-align: right;\">\n      <th></th>\n      <th>NU_INSCRICAO</th>\n      <th>IN_TREINEIRO</th>\n    </tr>\n  </thead>\n  <tbody>\n    <tr>\n      <th>0</th>\n      <td>ba0cc30ba34e7a46764c09dfc38ed83d15828897</td>\n      <td>0</td>\n    </tr>\n    <tr>\n      <th>1</th>\n      <td>177f281c68fa032aedbd842a745da68490926cd2</td>\n      <td>0</td>\n    </tr>\n    <tr>\n      <th>2</th>\n      <td>6cf0d8b97597d7625cdedc7bdb6c0f052286c334</td>\n      <td>1</td>\n    </tr>\n    <tr>\n      <th>3</th>\n      <td>5c356d810fa57671402502cd0933e5601a2ebf1e</td>\n      <td>0</td>\n    </tr>\n    <tr>\n      <th>4</th>\n      <td>df47c07bd881c2db3f38c6048bf77c132ad0ceb3</td>\n      <td>0</td>\n    </tr>\n  </tbody>\n</table>\n</div>"
     },
     "metadata": {},
     "execution_count": 136
    }
   ],
   "source": [
    "answer.head()"
   ]
  },
  {
   "cell_type": "code",
   "execution_count": 137,
   "metadata": {},
   "outputs": [],
   "source": [
    "answer.to_csv('answer.csv', index=False)"
   ]
  },
  {
   "cell_type": "markdown",
   "metadata": {},
   "source": [
    "Score: 99.496718"
   ]
  }
 ]
}